{
 "cells": [
  {
   "cell_type": "code",
   "execution_count": 1,
   "id": "lucky-species",
   "metadata": {
    "tags": []
   },
   "outputs": [],
   "source": [
    "from scipy.io.wavfile import read\n",
    "import numpy as np\n",
    "import matplotlib.pyplot as plt\n",
    "import sys\n",
    "np.set_printoptions(threshold=sys.maxsize)\n"
   ]
  },
  {
   "cell_type": "code",
   "execution_count": 2,
   "id": "forced-andrews",
   "metadata": {
    "collapsed": true,
    "jupyter": {
     "outputs_hidden": true
    },
    "tags": []
   },
   "outputs": [
    {
     "name": "stdout",
     "output_type": "stream",
     "text": [
      "number of channels = 2\n",
      "length = 10.0s\n"
     ]
    },
    {
     "name": "stderr",
     "output_type": "stream",
     "text": [
      "<ipython-input-2-8bf109307b81>:1: WavFileWarning: Reached EOF prematurely; finished at 1920079 bytes, expected 4294967303 bytes from header.\n",
      "  samplerate, data = read(\"voice.wav\")\n"
     ]
    }
   ],
   "source": [
    "samplerate, data = read(\"voice.wav\")\n",
    "print(f\"number of channels = {data.shape[1]}\")\n",
    "\n",
    "length = data.shape[0] / samplerate\n",
    "print(f\"length = {length}s\")\n"
   ]
  },
  {
   "cell_type": "code",
   "execution_count": 3,
   "id": "hourly-intro",
   "metadata": {
    "tags": []
   },
   "outputs": [
    {
     "name": "stdout",
     "output_type": "stream",
     "text": [
      "480000\n",
      "48000\n"
     ]
    }
   ],
   "source": [
    "print(data.shape[0])\n",
    "\n",
    "print(samplerate)"
   ]
  },
  {
   "cell_type": "code",
   "execution_count": 4,
   "id": "sunset-valentine",
   "metadata": {},
   "outputs": [
    {
     "data": {
      "image/png": "[encoded data removed]",
      "text/plain": [
       "<Figure size 432x288 with 1 Axes>"
      ]
     },
     "metadata": {
      "needs_background": "light"
     },
     "output_type": "display_data"
    }
   ],
   "source": [
    "\n",
    "time = np.linspace(0., length, data.shape[0])\n",
    "plt.plot(time, data[:, 0], label=\"Left channel\")\n",
    "plt.plot(time, data[:, 1], label=\"Right channel\")\n",
    "plt.legend()\n",
    "plt.xlabel(\"Time [s]\")\n",
    "plt.ylabel(\"Amplitude\")\n",
    "plt.show()"
   ]
  },
  {
   "cell_type": "code",
   "execution_count": 6,
   "id": "hundred-civilization",
   "metadata": {},
   "outputs": [],
   "source": [
    "def filter_voice_not_zero(data):\n",
    "    newarr = [];\n",
    "    c = -1;\n",
    "    i = 0;\n",
    "    while i < len(data):\n",
    "        el = data[i];\n",
    "        if el[0] != 0 or el[1] != 0:\n",
    "            newarr[c].append(el);\n",
    "        else:\n",
    "            newarr.append([]);\n",
    "            c = c + 1\n",
    "            while i < len(data)-1 and data[i+1][0] == 0 and data[i+1][1] == 0:\n",
    "                i = i + 1;\n",
    "        i = i + 1;\n",
    "    if len(newarr[-1]) == 0:\n",
    "        return newarr[0:-1];\n",
    "    return newarr;\n",
    "\n",
    "filtered_arr = filter_voice_not_zero(data);\n"
   ]
  }
 ],
 "metadata": {
  "kernelspec": {
   "display_name": "Python 3",
   "language": "python",
   "name": "python3"
  },
  "language_info": {
   "codemirror_mode": {
    "name": "ipython",
    "version": 3
   },
   "file_extension": ".py",
   "mimetype": "text/x-python",
   "name": "python",
   "nbconvert_exporter": "python",
   "pygments_lexer": "ipython3",
   "version": "3.9.4"
  }
 },
 "nbformat": 4,
 "nbformat_minor": 5
}
